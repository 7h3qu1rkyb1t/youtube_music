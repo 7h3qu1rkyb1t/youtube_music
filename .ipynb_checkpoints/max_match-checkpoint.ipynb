{
 "cells": [
  {
   "cell_type": "code",
   "execution_count": 2,
   "metadata": {},
   "outputs": [],
   "source": [
    "from difflib import SequenceMatcher\n",
    "import numpy as np\n",
    "import itertools\n",
    "similarity = lambda x: np.mean([SequenceMatcher(None, a,b).ratio() for a,b in itertools.combinations(x, 2)])\n"
   ]
  },
  {
   "cell_type": "code",
   "execution_count": 4,
   "metadata": {},
   "outputs": [],
   "source": [
    "import os\n",
    "import sys"
   ]
  },
  {
   "cell_type": "code",
   "execution_count": 7,
   "metadata": {},
   "outputs": [],
   "source": [
    "os.chdir(\"/media/gireesh/common_disk/music/temp/\")"
   ]
  },
  {
   "cell_type": "code",
   "execution_count": 32,
   "metadata": {},
   "outputs": [],
   "source": [
    "def match_find():\n",
    "    l = os.listdir()\n",
    "    max_match = 0.5\n",
    "    stop_search = False\n",
    "    removing_lst = []\n",
    "    for _ in range(len(l)):\n",
    "        i = l.pop()\n",
    "        for j in l:\n",
    "            if max_match < similarity([i,j]):\n",
    "                if not stop_search:\n",
    "                    max_match = similarity([i,j])\n",
    "                    print(f\"{i}\\n{j}\\t{max_match}\")\n",
    "                    if input(\"do you wanna go above? [[Y]/n]\\n\") == \"n\":\n",
    "                        stop_search = True\n",
    "                else:\n",
    "                    removing_lst.append((j,i))\n",
    "                \n",
    "        else:\n",
    "            continue\n",
    "        break\n",
    "    return removing_lst\n",
    "    \n",
    "            "
   ]
  },
  {
   "cell_type": "code",
   "execution_count": 33,
   "metadata": {},
   "outputs": [
    {
     "name": "stdout",
     "output_type": "stream",
     "text": [
      "Max Brhon - Cyberpunk [NCS Release].mp3\n",
      "3rd Prototype - Blue [NCS Release].mp3\t0.6493506493506493\n",
      "do you wanna go above? [[Y]/n]\n",
      "\n",
      "Martin Garrix, Matisse & Sadko feat. Alex Aris - Mistaken (Official Video).mp3\n",
      "Martin Garrix & Brooks - Byte (Official Video).mp3\t0.6875\n",
      "do you wanna go above? [[Y]/n]\n",
      "\n",
      "Martin Garrix, Matisse & Sadko feat. Alex Aris - Mistaken (Official Video).mp3\n",
      "Martin Garrix feat. Bonn - Home (Official Video).mp3\t0.6923076923076923\n",
      "do you wanna go above? [[Y]/n]\n",
      "\n",
      "Martin Garrix, Matisse & Sadko feat. Alex Aris - Mistaken (Official Video).mp3\n",
      "Martin Garrix feat. Khalid - Ocean (Official Video).mp3\t0.7218045112781954\n",
      "do you wanna go above? [[Y]/n]\n",
      "\n",
      "Martin Garrix, Matisse & Sadko feat. Alex Aris - Mistaken (Official Video).mp3\n",
      "Martin Garrix, Matisse & Sadko - Forever (Official Music Video).mp3\t0.7586206896551724\n",
      "do you wanna go above? [[Y]/n]\n",
      "\n",
      "Martin Garrix, Matisse & Sadko feat. Alex Aris - Mistaken (Official Video).mp3\n",
      "Martin Garrix, Matisse & Sadko feat. Alex Aris - Mistaken (Club Mix).mp3\t0.8666666666666667\n",
      "do you wanna go above? [[Y]/n]\n",
      "n\n",
      "[(\"Martin Garrix feat. Usher - 'Don't Look Down' (Towel Boy) [Official Music Video YTMAs].mp3\", \"Martin Garrix feat. Usher - 'Don't Look Down' (Towel Girl) [Official Music Video YTMAs].mp3\"), ('Martin Garrix feat. Macklemore & Patrick Stump of Fall Out Boy - Summer Days (Lyric Video).mp3', 'Martin Garrix feat. Macklemore & Patrick Stump of Fall Out Boy - Summer Days (Official Video).mp3'), ('Martin Garrix feat. Bonn - Home (Official Video).mp3', 'Martin Garrix feat. Bonn - No Sleep (Official Video).mp3'), ('Martin Garrix - Pizza (Official Video).mp3', 'Martin Garrix - Access (Official Video).mp3'), ('Martin Garrix feat. Bonn - High On Life (Official Video).mp3', 'Martin Garrix feat. Bonn - Home (Official Video).mp3'), ('Martin Garrix & Brooks - Byte (Official Video).mp3', 'Martin Garrix & Dyro - Latency (Official Video).mp3'), ('Martin Garrix & Bebe Rexha - In The Name Of Love (Official Audio).mp3', 'Martin Garrix & Bebe Rexha - In The Name Of Love (Official Video).mp3'), ('KSHMR - MY BEST LIFE (FEAT. MIKE WATERS) [22BULLETS REMIX].mp3', 'KSHMR - MY BEST LIFE (FEAT. MIKE WATERS) [NEVERGLOW REMIX].mp3'), ('KSHMR - MY BEST LIFE (FEAT. MIKE WATERS) [7 SKIES REMIX].mp3', 'KSHMR - MY BEST LIFE (FEAT. MIKE WATERS) [NEVERGLOW REMIX].mp3'), ('KSHMR - MY BEST LIFE (FEAT. MIKE WATERS) [BRYA REMIX].mp3', 'KSHMR - MY BEST LIFE (FEAT. MIKE WATERS) [NEVERGLOW REMIX].mp3'), ('KSHMR - MY BEST LIFE (FEAT. MIKE WATERS) [DANKO REMIX].mp3', 'KSHMR - MY BEST LIFE (FEAT. MIKE WATERS) [NEVERGLOW REMIX].mp3'), ('KSHMR - MY BEST LIFE (FEAT. MIKE WATERS) [EDUARD KORT REMIX].mp3', 'KSHMR - MY BEST LIFE (FEAT. MIKE WATERS) [NEVERGLOW REMIX].mp3'), ('KSHMR - MY BEST LIFE (FEAT. MIKE WATERS) [KRIMSONN REMIX].mp3', 'KSHMR - MY BEST LIFE (FEAT. MIKE WATERS) [NEVERGLOW REMIX].mp3'), ('KSHMR - MY BEST LIFE (FEAT. MIKE WATERS) [22BULLETS REMIX].mp3', 'KSHMR - MY BEST LIFE (FEAT. MIKE WATERS) [KRIMSONN REMIX].mp3'), ('KSHMR - MY BEST LIFE (FEAT. MIKE WATERS) [7 SKIES REMIX].mp3', 'KSHMR - MY BEST LIFE (FEAT. MIKE WATERS) [KRIMSONN REMIX].mp3'), ('KSHMR - MY BEST LIFE (FEAT. MIKE WATERS) [BRYA REMIX].mp3', 'KSHMR - MY BEST LIFE (FEAT. MIKE WATERS) [KRIMSONN REMIX].mp3'), ('KSHMR - MY BEST LIFE (FEAT. MIKE WATERS) [DANKO REMIX].mp3', 'KSHMR - MY BEST LIFE (FEAT. MIKE WATERS) [KRIMSONN REMIX].mp3'), ('KSHMR - MY BEST LIFE (FEAT. MIKE WATERS) [EDUARD KORT REMIX].mp3', 'KSHMR - MY BEST LIFE (FEAT. MIKE WATERS) [KRIMSONN REMIX].mp3'), ('KSHMR - MY BEST LIFE (FEAT. MIKE WATERS) [22BULLETS REMIX].mp3', 'KSHMR - MY BEST LIFE (FEAT. MIKE WATERS) [EDUARD KORT REMIX].mp3'), ('KSHMR - MY BEST LIFE (FEAT. MIKE WATERS) [7 SKIES REMIX].mp3', 'KSHMR - MY BEST LIFE (FEAT. MIKE WATERS) [EDUARD KORT REMIX].mp3'), ('KSHMR - MY BEST LIFE (FEAT. MIKE WATERS) [BRYA REMIX].mp3', 'KSHMR - MY BEST LIFE (FEAT. MIKE WATERS) [EDUARD KORT REMIX].mp3'), ('KSHMR - MY BEST LIFE (FEAT. MIKE WATERS) [DANKO REMIX].mp3', 'KSHMR - MY BEST LIFE (FEAT. MIKE WATERS) [EDUARD KORT REMIX].mp3'), ('KSHMR - MY BEST LIFE (FEAT. MIKE WATERS) [22BULLETS REMIX].mp3', 'KSHMR - MY BEST LIFE (FEAT. MIKE WATERS) [DANKO REMIX].mp3'), ('KSHMR - MY BEST LIFE (FEAT. MIKE WATERS) [7 SKIES REMIX].mp3', 'KSHMR - MY BEST LIFE (FEAT. MIKE WATERS) [DANKO REMIX].mp3'), ('KSHMR - MY BEST LIFE (FEAT. MIKE WATERS) [BRYA REMIX].mp3', 'KSHMR - MY BEST LIFE (FEAT. MIKE WATERS) [DANKO REMIX].mp3'), ('KSHMR - MY BEST LIFE (FEAT. MIKE WATERS) [22BULLETS REMIX].mp3', 'KSHMR - MY BEST LIFE (FEAT. MIKE WATERS) [BRYA REMIX].mp3'), ('KSHMR - MY BEST LIFE (FEAT. MIKE WATERS) [7 SKIES REMIX].mp3', 'KSHMR - MY BEST LIFE (FEAT. MIKE WATERS) [BRYA REMIX].mp3'), ('KSHMR - MY BEST LIFE (FEAT. MIKE WATERS) [22BULLETS REMIX].mp3', 'KSHMR - MY BEST LIFE (FEAT. MIKE WATERS) [7 SKIES REMIX].mp3'), ('KSHMR & YVES V - NO REGRETS (FT. KREWELLA) [HOAPROX REMIX].mp3', 'KSHMR & YVES V - NO REGRETS (FT. KREWELLA) [RANDALL REMIX].mp3'), ('Gryffin & Carly Rae Jepsen - OMG (Lyrics) Anki Remix.mp3', 'Gryffin & Carly Rae Jepsen - OMG (Lyrics).mp3'), ('Vicetone - Ran Out of Reasons (Lyrics) feat. Jude & Night Panda.mp3', 'Vicetone - Ran Out of Reasons (Official Video) feat. Jude & Night Panda.mp3'), ('William Black - Drown The Sky (Lyrics) ft. RØRY.mp3', 'William Black - Drown The Sky ft. RØRY.mp3'), ('Sam Feldt - Post Malone (feat. RANI) (Friend Within Remix) [Official Music Video].mp3', 'Sam Feldt - Post Malone (feat. RANI) [Joe Stone Remix] (Official Music Video).mp3'), ('Sam Feldt - Post Malone (feat. RANI) [Cat Dealers Remix] (Official Music Video).mp3', 'Sam Feldt - Post Malone (feat. RANI) [Joe Stone Remix] (Official Music Video).mp3'), ('Sam Feldt - Post Malone (feat. RANI) [GATTÜSO Remix] (Official Music Video).mp3', 'Sam Feldt - Post Malone (feat. RANI) [Joe Stone Remix] (Official Music Video).mp3'), ('Sam Feldt - Post Malone (feat. RANI) [Cat Dealers Remix] (Official Music Video).mp3', 'Sam Feldt - Post Malone (feat. RANI) [GATTÜSO Remix] (Official Music Video).mp3'), (\"Illenium - That's Why (feat. GOLDN).mp3\", \"Illenium - That's Why (Lyrics) ft. GOLDN.mp3\"), ('The Drop - Curbi listens to Talent Pool demos.mp3', 'The Drop - SLVR listens to Talent Pool demos.mp3'), ('The Drop - KURA listens to Talent Pool demos.mp3', 'The Drop - SLVR listens to Talent Pool demos.mp3'), ('The Drop - Mesto listens to Talent Pool demos.mp3', 'The Drop - SLVR listens to Talent Pool demos.mp3'), ('The Drop - Mesto listens to Talent Pool demos.mp3', 'The Drop - Mike Williams listens to Talent Pool demos.mp3'), ('The Drop - Curbi listens to Talent Pool demos.mp3', 'The Drop - Mesto listens to Talent Pool demos.mp3'), ('The Drop - Jonas Aden listens to Talent Pool demos.mp3', 'The Drop - Mesto listens to Talent Pool demos.mp3'), ('The Drop - KURA listens to Talent Pool demos.mp3', 'The Drop - Mesto listens to Talent Pool demos.mp3'), ('The Drop - Curbi listens to Talent Pool demos.mp3', 'The Drop - KURA listens to Talent Pool demos.mp3'), ('The Drop - Jonas Aden listens to Talent Pool demos.mp3', 'The Drop - KURA listens to Talent Pool demos.mp3')]\n"
     ]
    }
   ],
   "source": [
    "removingmatch_find()"
   ]
  },
  {
   "cell_type": "code",
   "execution_count": null,
   "metadata": {},
   "outputs": [],
   "source": []
  }
 ],
 "metadata": {
  "kernelspec": {
   "display_name": "Python 3",
   "language": "python",
   "name": "python3"
  },
  "language_info": {
   "codemirror_mode": {
    "name": "ipython",
    "version": 3
   },
   "file_extension": ".py",
   "mimetype": "text/x-python",
   "name": "python",
   "nbconvert_exporter": "python",
   "pygments_lexer": "ipython3",
   "version": "3.7.4+"
  }
 },
 "nbformat": 4,
 "nbformat_minor": 2
}
