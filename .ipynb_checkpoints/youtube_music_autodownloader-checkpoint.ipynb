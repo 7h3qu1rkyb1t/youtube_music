{
 "cells": [
  {
   "cell_type": "code",
   "execution_count": 2,
   "metadata": {},
   "outputs": [],
   "source": [
    "import os"
   ]
  },
  {
   "cell_type": "code",
   "execution_count": 3,
   "metadata": {},
   "outputs": [],
   "source": [
    "import sys"
   ]
  },
  {
   "cell_type": "code",
   "execution_count": 4,
   "metadata": {},
   "outputs": [],
   "source": [
    "from apiclient.discovery import build"
   ]
  },
  {
   "cell_type": "code",
   "execution_count": 5,
   "metadata": {},
   "outputs": [],
   "source": [
    "key =os.environ.get(\"youtube_api\")"
   ]
  },
  {
   "cell_type": "code",
   "execution_count": 6,
   "metadata": {
    "scrolled": true
   },
   "outputs": [],
   "source": [
    "yt = build(\"youtube\",\"v3\",developerKey=key)\n"
   ]
  },
  {
   "cell_type": "code",
   "execution_count": 8,
   "metadata": {},
   "outputs": [
    {
     "data": {
      "text/plain": [
       "<googleapiclient.discovery.Resource at 0x7f0ca7e42c90>"
      ]
     },
     "execution_count": 8,
     "metadata": {},
     "output_type": "execute_result"
    }
   ],
   "source": [
    "yt\n"
   ]
  },
  {
   "cell_type": "code",
   "execution_count": 52,
   "metadata": {},
   "outputs": [],
   "source": [
    "with open(\"/home/gireesh/playground/scripts/youtube_music/subscriptions.json\") as f:\n",
    "    subs_list = f.read()"
   ]
  },
  {
   "cell_type": "code",
   "execution_count": 11,
   "metadata": {},
   "outputs": [],
   "source": [
    "import json"
   ]
  },
  {
   "cell_type": "code",
   "execution_count": 53,
   "metadata": {},
   "outputs": [],
   "source": [
    "subs_list = json.loads(subs_list)"
   ]
  },
  {
   "cell_type": "code",
   "execution_count": 16,
   "metadata": {},
   "outputs": [],
   "source": [
    "import pyperclip"
   ]
  },
  {
   "cell_type": "code",
   "execution_count": 14,
   "metadata": {},
   "outputs": [],
   "source": [
    "with open(\"/home/gireesh/playground/scripts/youtube_music/watch-history.json\") as f:\n",
    "    watched = json.loads(f.read())"
   ]
  },
  {
   "cell_type": "code",
   "execution_count": 54,
   "metadata": {},
   "outputs": [
    {
     "name": "stdout",
     "output_type": "stream",
     "text": [
      "UC5nc_ZtjKW1htCVZVRxlQAQ : LX2Tg-8-hQ\n",
      "UCa10nxShhzNrCE1o2ZOPztg : luXlybJ69xw\n",
      "UCbuK8xxu2P_sqoMnDsoBrrg : kxlo55iLzsA\n",
      "UC_aEa8K-EOJ3D6gOs7HcyNg : 2R0WaLOGmA\n",
      "UCJrOtniJ0-NWz37R30urifQ : -tW87CY1Bw8\n",
      "UCJ6ERWrxZzb9Ua3oeRcIe0g : 9atzd_2FB_4\n",
      "UCpDJl2EmP7Oh90Vylx0dZtA : x0vICiU1H1g\n",
      "UClVrJwcIy7saPcGc1nct80A : khSjdJ-61n0\n",
      "UCFMjkrMT7Gvg84v0av-DIwA : Wn9SugJZrNA\n",
      "UC32W3Kpoh6T6pG5PrWm0LTQ : RqaDgIcmA\n",
      "UC5H_KXkPbEsGs0tFt8R35mA : Eh3Afnakd48&t=5s\n",
      "UCPT5Q93YbgJ_7du1gV7UHQQ : qGgKkvjxytU\n",
      "UCxMsgwldMZiuFTD6jjv32yQ : g8QOjdpl_18\n",
      "UCe9rl8k6yymUeVzzXfFGWwA : ng7QrYgdItQ\n",
      "UCLWhjdcnGgn6E5WeG5Q7wvQ : SmxP9WtMuxE\n",
      "UCnF-V7KkofHVjG_NZqId9dA : 4d0-AxyjZMo\n",
      "UCBVjMGOIkavEAhyqpxJ73Dw : AnmpPBiiCVg\n",
      "UCXROBpRPerYW4yBFx2i3IBg : Ut7vPV8tSmM\n",
      "UCKQKIY2YlI4L5QVg7hhfjrQ : kl0h99QVCVc\n",
      "UCeLHszkByNZtPKcaVXOCOQQ : Wisthc226SU\n",
      "UCZU9T1ceaOgwfLRq7OKFU4Q : UXjJWP_PwxA\n",
      "UCCFJeI-2sT_cWgz-QJRgbCw : qC_SxaXL8bs\n",
      "UCYvmuw-JtVrTZQ-7Y4kd63Q : UYfCPvoQgZo\n",
      "UCv0tIDoaBZCTXQvVO4zosng : iyuXOTWPrBg\n",
      "UCyo4FFY5_6v_ZzPl-Fq6FZw : E9pvfFaBXKY\n",
      "UCb2HGwORFBo94DmRx4oLzow : jmp8CoZBIo\n",
      "UCT9zcQNlyht7fRlcjmflRSA : OXZkm9p_zY\n"
     ]
    }
   ],
   "source": [
    "final_dict = {}\n",
    "for counter, i in enumerate(subs_list):\n",
    "    sub = i[\"snippet\"][\"resourceId\"][\"channelId\"]\n",
    "    pyperclip.copy(\"https://www.youtube.com/channel/\"+sub)\n",
    "    tmp = pyperclip.paste()\n",
    "    while True:\n",
    "        if pyperclip.paste() != tmp:\n",
    "            last_vid = pyperclip.paste().lstrip(\" https://www.youtube.com/watch?v=\")\n",
    "            final_dict[sub]= last_vid\n",
    "            print(f\"{sub} : {final_dict[sub]}\")\n",
    "            break"
   ]
  },
  {
   "cell_type": "code",
   "execution_count": 58,
   "metadata": {
    "scrolled": false
   },
   "outputs": [],
   "source": [
    "with open(\"/home/gireesh/.youtube.config/subscription_list\",\"w\") as f:\n",
    "    f.write(json.dumps(final_dict))"
   ]
  },
  {
   "cell_type": "code",
   "execution_count": null,
   "metadata": {},
   "outputs": [],
   "source": []
  }
 ],
 "metadata": {
  "kernelspec": {
   "display_name": "Python 3",
   "language": "python",
   "name": "python3"
  },
  "language_info": {
   "codemirror_mode": {
    "name": "ipython",
    "version": 3
   },
   "file_extension": ".py",
   "mimetype": "text/x-python",
   "name": "python",
   "nbconvert_exporter": "python",
   "pygments_lexer": "ipython3",
   "version": "3.7.4+"
  }
 },
 "nbformat": 4,
 "nbformat_minor": 2
}
